{
  "nbformat": 4,
  "nbformat_minor": 0,
  "metadata": {
    "colab": {
      "name": "mnist_fashion_keras.ipynb",
      "provenance": [],
      "collapsed_sections": [],
      "authorship_tag": "ABX9TyM3xZ9o50jk2li7PPZxtHZ/",
      "include_colab_link": true
    },
    "kernelspec": {
      "name": "python3",
      "display_name": "Python 3"
    },
    "accelerator": "GPU"
  },
  "cells": [
    {
      "cell_type": "markdown",
      "metadata": {
        "id": "view-in-github",
        "colab_type": "text"
      },
      "source": [
        "<a href=\"https://colab.research.google.com/github/simecek/dspracticum2021/blob/main/lesson03/mnist_fashion_keras.ipynb\" target=\"_parent\"><img src=\"https://colab.research.google.com/assets/colab-badge.svg\" alt=\"Open In Colab\"/></a>"
      ]
    },
    {
      "cell_type": "markdown",
      "metadata": {
        "id": "bmn8nhG3Swyq"
      },
      "source": [
        "## Setup"
      ]
    },
    {
      "cell_type": "code",
      "metadata": {
        "id": "_0aoL6X0OdSi",
        "colab": {
          "base_uri": "https://localhost:8080/"
        },
        "outputId": "3c360fc1-6a8f-4e00-ae0e-ac6aa30a73b8"
      },
      "source": [
        "import matplotlib.pyplot as plt\n",
        "import numpy as np\n",
        "import pandas as pd\n",
        "\n",
        "import tensorflow as tf\n",
        "from tensorflow import keras\n",
        "from tensorflow.keras import layers\n",
        "\n",
        "print(tf.__version__)"
      ],
      "execution_count": 1,
      "outputs": [
        {
          "output_type": "stream",
          "name": "stdout",
          "text": [
            "2.6.0\n"
          ]
        }
      ]
    },
    {
      "cell_type": "markdown",
      "metadata": {
        "id": "nqWh6mUpTtD-"
      },
      "source": [
        "## Data"
      ]
    },
    {
      "cell_type": "code",
      "metadata": {
        "id": "y_SD_6ieSyOA",
        "colab": {
          "base_uri": "https://localhost:8080/"
        },
        "outputId": "61073da8-a9d6-4dee-ac56-537099fc62be"
      },
      "source": [
        "# load Fashion MNIST from Keras repo\n",
        "fashion_mnist = tf.keras.datasets.fashion_mnist\n",
        "(x_train, y_train), (x_test, y_test) = fashion_mnist.load_data()\n",
        "\n",
        "# add extra dimension (to have one channel)\n",
        "x_train = x_train[:,:,:,None]\n",
        "x_test = x_test[:,:,:,None]\n",
        "\n",
        "x_train.shape, y_train.shape, x_test.shape, y_test.shape"
      ],
      "execution_count": 2,
      "outputs": [
        {
          "output_type": "stream",
          "name": "stdout",
          "text": [
            "Downloading data from https://storage.googleapis.com/tensorflow/tf-keras-datasets/train-labels-idx1-ubyte.gz\n",
            "32768/29515 [=================================] - 0s 0us/step\n",
            "40960/29515 [=========================================] - 0s 0us/step\n",
            "Downloading data from https://storage.googleapis.com/tensorflow/tf-keras-datasets/train-images-idx3-ubyte.gz\n",
            "26427392/26421880 [==============================] - 0s 0us/step\n",
            "26435584/26421880 [==============================] - 0s 0us/step\n",
            "Downloading data from https://storage.googleapis.com/tensorflow/tf-keras-datasets/t10k-labels-idx1-ubyte.gz\n",
            "16384/5148 [===============================================================================================] - 0s 0us/step\n",
            "Downloading data from https://storage.googleapis.com/tensorflow/tf-keras-datasets/t10k-images-idx3-ubyte.gz\n",
            "4423680/4422102 [==============================] - 0s 0us/step\n",
            "4431872/4422102 [==============================] - 0s 0us/step\n"
          ]
        },
        {
          "output_type": "execute_result",
          "data": {
            "text/plain": [
              "((60000, 28, 28, 1), (60000,), (10000, 28, 28, 1), (10000,))"
            ]
          },
          "metadata": {},
          "execution_count": 2
        }
      ]
    },
    {
      "cell_type": "code",
      "metadata": {
        "id": "R7gREnSlTdUV"
      },
      "source": [
        "clothes_labels = ['T-shirt/top', 'Trouser', 'Pullover', 'Dress', 'Coat',\n",
        "                  'Sandal', 'Shirt', 'Sneaker', 'Bag', 'Ankle boot']"
      ],
      "execution_count": 3,
      "outputs": []
    },
    {
      "cell_type": "markdown",
      "metadata": {
        "id": "JFsDzcrJWsK5"
      },
      "source": [
        "## Plotting"
      ]
    },
    {
      "cell_type": "code",
      "metadata": {
        "id": "2Q25XXmGTrqG",
        "colab": {
          "base_uri": "https://localhost:8080/",
          "height": 480
        },
        "outputId": "c8cab781-0c55-490c-8353-51748b05830c"
      },
      "source": [
        "def plot_image(x, title = \"\"):\n",
        "  plt.xticks([])\n",
        "  plt.yticks([])\n",
        "  plt.grid(False)\n",
        "  plt.imshow(x, cmap=plt.cm.binary)\n",
        "  plt.xlabel(title)\n",
        "\n",
        "plt.figure(figsize=(8,8))\n",
        "for i in range(0, 160, 10):\n",
        "  plt.subplot(4, 4, i // 10 + 1)\n",
        "  plot_image(x_train[i].squeeze(), clothes_labels[y_train[i]])\n"
      ],
      "execution_count": 4,
      "outputs": [
        {
          "output_type": "display_data",
          "data": {
            "image/png": "[encoded data removed]",
            "text/plain": [
              "<Figure size 576x576 with 16 Axes>"
            ]
          },
          "metadata": {}
        }
      ]
    },
    {
      "cell_type": "markdown",
      "metadata": {
        "id": "RpECKIWLZjdD"
      },
      "source": [
        "## Dense Neural Network"
      ]
    },
    {
      "cell_type": "code",
      "metadata": {
        "id": "ihnXpLvXXg1L"
      },
      "source": [
        "# Normalize values from [0, 255] to [0, 1] interval\n",
        "x_train = x_train / 255\n",
        "x_test = x_test / 255"
      ],
      "execution_count": 5,
      "outputs": []
    },
    {
      "cell_type": "code",
      "metadata": {
        "id": "vufNZxMhZ8Bk",
        "colab": {
          "base_uri": "https://localhost:8080/"
        },
        "outputId": "5acf53dc-8db5-49c7-8324-1fe6cab3a453"
      },
      "source": [
        "y_train = keras.utils.to_categorical(y_train, 10)\n",
        "y_test = keras.utils.to_categorical(y_test, 10)\n",
        "\n",
        "y_train.shape"
      ],
      "execution_count": 6,
      "outputs": [
        {
          "output_type": "execute_result",
          "data": {
            "text/plain": [
              "(60000, 10)"
            ]
          },
          "metadata": {},
          "execution_count": 6
        }
      ]
    },
    {
      "cell_type": "code",
      "metadata": {
        "id": "wVM4GU_Gb7dx",
        "colab": {
          "base_uri": "https://localhost:8080/"
        },
        "outputId": "c9417f8b-f764-4310-9a5f-e66121f84508"
      },
      "source": [
        "dnn_model = keras.Sequential([\n",
        "      layers.Flatten(input_shape=(28,28)),\n",
        "      layers.Dense(128, activation='relu'),\n",
        "      layers.Dense(64, activation='relu'),\n",
        "      layers.Dense(10, activation='softmax')\n",
        "])\n",
        "\n",
        "dnn_model.compile(loss='categorical_crossentropy', \n",
        "                  optimizer=tf.keras.optimizers.Adam(),\n",
        "                  metrics=['accuracy'])\n",
        "\n",
        "dnn_model.summary()"
      ],
      "execution_count": 7,
      "outputs": [
        {
          "output_type": "stream",
          "name": "stdout",
          "text": [
            "Model: \"sequential\"\n",
            "_________________________________________________________________\n",
            "Layer (type)                 Output Shape              Param #   \n",
            "=================================================================\n",
            "flatten (Flatten)            (None, 784)               0         \n",
            "_________________________________________________________________\n",
            "dense (Dense)                (None, 128)               100480    \n",
            "_________________________________________________________________\n",
            "dense_1 (Dense)              (None, 64)                8256      \n",
            "_________________________________________________________________\n",
            "dense_2 (Dense)              (None, 10)                650       \n",
            "=================================================================\n",
            "Total params: 109,386\n",
            "Trainable params: 109,386\n",
            "Non-trainable params: 0\n",
            "_________________________________________________________________\n"
          ]
        }
      ]
    },
    {
      "cell_type": "code",
      "metadata": {
        "id": "eOZEYZKDeVC-",
        "colab": {
          "base_uri": "https://localhost:8080/"
        },
        "outputId": "4b9724a9-60b6-4420-9a77-5f2b9776abe1"
      },
      "source": [
        "history = dnn_model.fit(\n",
        "  x_train, y_train,\n",
        "  batch_size = 256,\n",
        "  epochs = 20,\n",
        "  validation_data = (x_test, y_test),\n",
        "  verbose = 1\n",
        ")"
      ],
      "execution_count": 8,
      "outputs": [
        {
          "output_type": "stream",
          "name": "stdout",
          "text": [
            "Epoch 1/20\n",
            "235/235 [==============================] - 4s 5ms/step - loss: 0.6037 - accuracy: 0.7919 - val_loss: 0.4681 - val_accuracy: 0.8324\n",
            "Epoch 2/20\n",
            "235/235 [==============================] - 1s 4ms/step - loss: 0.4165 - accuracy: 0.8529 - val_loss: 0.4082 - val_accuracy: 0.8549\n",
            "Epoch 3/20\n",
            "235/235 [==============================] - 1s 4ms/step - loss: 0.3690 - accuracy: 0.8674 - val_loss: 0.4165 - val_accuracy: 0.8490\n",
            "Epoch 4/20\n",
            "235/235 [==============================] - 1s 5ms/step - loss: 0.3492 - accuracy: 0.8755 - val_loss: 0.3887 - val_accuracy: 0.8599\n",
            "Epoch 5/20\n",
            "235/235 [==============================] - 1s 5ms/step - loss: 0.3242 - accuracy: 0.8838 - val_loss: 0.3764 - val_accuracy: 0.8648\n",
            "Epoch 6/20\n",
            "235/235 [==============================] - 1s 4ms/step - loss: 0.3087 - accuracy: 0.8874 - val_loss: 0.3614 - val_accuracy: 0.8724\n",
            "Epoch 7/20\n",
            "235/235 [==============================] - 1s 5ms/step - loss: 0.2952 - accuracy: 0.8928 - val_loss: 0.3454 - val_accuracy: 0.8745\n",
            "Epoch 8/20\n",
            "235/235 [==============================] - 1s 4ms/step - loss: 0.2878 - accuracy: 0.8952 - val_loss: 0.3437 - val_accuracy: 0.8780\n",
            "Epoch 9/20\n",
            "235/235 [==============================] - 1s 5ms/step - loss: 0.2750 - accuracy: 0.8993 - val_loss: 0.3367 - val_accuracy: 0.8789\n",
            "Epoch 10/20\n",
            "235/235 [==============================] - 1s 5ms/step - loss: 0.2682 - accuracy: 0.9010 - val_loss: 0.3358 - val_accuracy: 0.8791\n",
            "Epoch 11/20\n",
            "235/235 [==============================] - 1s 5ms/step - loss: 0.2577 - accuracy: 0.9046 - val_loss: 0.3719 - val_accuracy: 0.8702\n",
            "Epoch 12/20\n",
            "235/235 [==============================] - 1s 4ms/step - loss: 0.2508 - accuracy: 0.9066 - val_loss: 0.3397 - val_accuracy: 0.8783\n",
            "Epoch 13/20\n",
            "235/235 [==============================] - 1s 4ms/step - loss: 0.2450 - accuracy: 0.9107 - val_loss: 0.3300 - val_accuracy: 0.8847\n",
            "Epoch 14/20\n",
            "235/235 [==============================] - 1s 4ms/step - loss: 0.2345 - accuracy: 0.9145 - val_loss: 0.3310 - val_accuracy: 0.8850\n",
            "Epoch 15/20\n",
            "235/235 [==============================] - 1s 4ms/step - loss: 0.2295 - accuracy: 0.9154 - val_loss: 0.3383 - val_accuracy: 0.8764\n",
            "Epoch 16/20\n",
            "235/235 [==============================] - 1s 4ms/step - loss: 0.2247 - accuracy: 0.9178 - val_loss: 0.3207 - val_accuracy: 0.8883\n",
            "Epoch 17/20\n",
            "235/235 [==============================] - 1s 5ms/step - loss: 0.2161 - accuracy: 0.9214 - val_loss: 0.3289 - val_accuracy: 0.8868\n",
            "Epoch 18/20\n",
            "235/235 [==============================] - 1s 4ms/step - loss: 0.2122 - accuracy: 0.9214 - val_loss: 0.3243 - val_accuracy: 0.8861\n",
            "Epoch 19/20\n",
            "235/235 [==============================] - 1s 4ms/step - loss: 0.2065 - accuracy: 0.9231 - val_loss: 0.3284 - val_accuracy: 0.8873\n",
            "Epoch 20/20\n",
            "235/235 [==============================] - 1s 4ms/step - loss: 0.2012 - accuracy: 0.9250 - val_loss: 0.3353 - val_accuracy: 0.8864\n"
          ]
        }
      ]
    },
    {
      "cell_type": "code",
      "metadata": {
        "id": "-PByq3FVehBt",
        "colab": {
          "base_uri": "https://localhost:8080/",
          "height": 283
        },
        "outputId": "065be336-524d-4154-cf3f-7cd5acc8be4a"
      },
      "source": [
        "def plot_loss(history, ylim=(0,1)):\n",
        "  plt.plot(history.history['accuracy'], label='accuracy')\n",
        "  plt.plot(history.history['val_accuracy'], label='val_accuracy')\n",
        "  plt.ylim(ylim)\n",
        "  plt.xlabel('Epoch')\n",
        "  plt.ylabel('Accuracy')\n",
        "  plt.legend()\n",
        "  plt.grid(True)\n",
        "\n",
        "plot_loss(history, ylim=(0.7, 1))"
      ],
      "execution_count": 9,
      "outputs": [
        {
          "output_type": "display_data",
          "data": {
            "image/png": "[encoded data removed]",
            "text/plain": [
              "<Figure size 432x288 with 1 Axes>"
            ]
          },
          "metadata": {
            "needs_background": "light"
          }
        }
      ]
    },
    {
      "cell_type": "markdown",
      "metadata": {
        "id": "mpFZl79kf8Ld"
      },
      "source": [
        "## Convolutional Neural Network"
      ]
    },
    {
      "cell_type": "code",
      "metadata": {
        "id": "-rceUxk9ffgs",
        "colab": {
          "base_uri": "https://localhost:8080/"
        },
        "outputId": "b0c1957f-e987-43e4-c4f3-e35c21d149fd"
      },
      "source": [
        "cnn_model = keras.Sequential([\n",
        "      layers.Conv2D(input_shape=(28,28,1), filters = 32, kernel_size = (3,3), activation = 'relu'),\n",
        "      layers.Dropout(0.5),\n",
        "      layers.Conv2D(filters = 32, kernel_size = (3,3), activation = 'relu'),\n",
        "      layers.Flatten(),\n",
        "      layers.Dense(128, activation='relu'),\n",
        "      layers.Dropout(0.5),\n",
        "      layers.Dense(10, activation='softmax')\n",
        "])\n",
        "\n",
        "cnn_model.compile(loss='categorical_crossentropy', \n",
        "                  optimizer=tf.keras.optimizers.Adam(),\n",
        "                  metrics=['accuracy'])\n",
        "\n",
        "cnn_model.summary()"
      ],
      "execution_count": 10,
      "outputs": [
        {
          "output_type": "stream",
          "name": "stdout",
          "text": [
            "Model: \"sequential_1\"\n",
            "_________________________________________________________________\n",
            "Layer (type)                 Output Shape              Param #   \n",
            "=================================================================\n",
            "conv2d (Conv2D)              (None, 26, 26, 32)        320       \n",
            "_________________________________________________________________\n",
            "dropout (Dropout)            (None, 26, 26, 32)        0         \n",
            "_________________________________________________________________\n",
            "conv2d_1 (Conv2D)            (None, 24, 24, 32)        9248      \n",
            "_________________________________________________________________\n",
            "flatten_1 (Flatten)          (None, 18432)             0         \n",
            "_________________________________________________________________\n",
            "dense_3 (Dense)              (None, 128)               2359424   \n",
            "_________________________________________________________________\n",
            "dropout_1 (Dropout)          (None, 128)               0         \n",
            "_________________________________________________________________\n",
            "dense_4 (Dense)              (None, 10)                1290      \n",
            "=================================================================\n",
            "Total params: 2,370,282\n",
            "Trainable params: 2,370,282\n",
            "Non-trainable params: 0\n",
            "_________________________________________________________________\n"
          ]
        }
      ]
    },
    {
      "cell_type": "code",
      "metadata": {
        "id": "QWwnqR-Dg2NG",
        "colab": {
          "base_uri": "https://localhost:8080/"
        },
        "outputId": "1f80fffb-8733-4880-f2f7-c1e0e1bca8ba"
      },
      "source": [
        "history = cnn_model.fit(\n",
        "  x_train, y_train,\n",
        "  batch_size = 256,\n",
        "  epochs = 20,\n",
        "  validation_data = (x_test, y_test),\n",
        "  verbose = 1\n",
        ")"
      ],
      "execution_count": 11,
      "outputs": [
        {
          "output_type": "stream",
          "name": "stdout",
          "text": [
            "Epoch 1/20\n",
            "235/235 [==============================] - 35s 26ms/step - loss: 0.6190 - accuracy: 0.7817 - val_loss: 0.3890 - val_accuracy: 0.8595\n",
            "Epoch 2/20\n",
            "235/235 [==============================] - 5s 23ms/step - loss: 0.4039 - accuracy: 0.8554 - val_loss: 0.3333 - val_accuracy: 0.8792\n",
            "Epoch 3/20\n",
            "235/235 [==============================] - 5s 23ms/step - loss: 0.3484 - accuracy: 0.8756 - val_loss: 0.2994 - val_accuracy: 0.8916\n",
            "Epoch 4/20\n",
            "235/235 [==============================] - 5s 23ms/step - loss: 0.3100 - accuracy: 0.8862 - val_loss: 0.2930 - val_accuracy: 0.8923\n",
            "Epoch 5/20\n",
            "235/235 [==============================] - 5s 23ms/step - loss: 0.2849 - accuracy: 0.8958 - val_loss: 0.2625 - val_accuracy: 0.9043\n",
            "Epoch 6/20\n",
            "235/235 [==============================] - 5s 23ms/step - loss: 0.2638 - accuracy: 0.9032 - val_loss: 0.2630 - val_accuracy: 0.9039\n",
            "Epoch 7/20\n",
            "235/235 [==============================] - 5s 23ms/step - loss: 0.2461 - accuracy: 0.9086 - val_loss: 0.2532 - val_accuracy: 0.9082\n",
            "Epoch 8/20\n",
            "235/235 [==============================] - 5s 23ms/step - loss: 0.2297 - accuracy: 0.9147 - val_loss: 0.2461 - val_accuracy: 0.9111\n",
            "Epoch 9/20\n",
            "235/235 [==============================] - 5s 23ms/step - loss: 0.2125 - accuracy: 0.9202 - val_loss: 0.2437 - val_accuracy: 0.9111\n",
            "Epoch 10/20\n",
            "235/235 [==============================] - 5s 23ms/step - loss: 0.2040 - accuracy: 0.9245 - val_loss: 0.2389 - val_accuracy: 0.9143\n",
            "Epoch 11/20\n",
            "235/235 [==============================] - 5s 23ms/step - loss: 0.1930 - accuracy: 0.9281 - val_loss: 0.2380 - val_accuracy: 0.9168\n",
            "Epoch 12/20\n",
            "235/235 [==============================] - 5s 23ms/step - loss: 0.1794 - accuracy: 0.9312 - val_loss: 0.2386 - val_accuracy: 0.9155\n",
            "Epoch 13/20\n",
            "235/235 [==============================] - 5s 23ms/step - loss: 0.1685 - accuracy: 0.9363 - val_loss: 0.2326 - val_accuracy: 0.9200\n",
            "Epoch 14/20\n",
            "235/235 [==============================] - 5s 23ms/step - loss: 0.1603 - accuracy: 0.9408 - val_loss: 0.2376 - val_accuracy: 0.9192\n",
            "Epoch 15/20\n",
            "235/235 [==============================] - 5s 23ms/step - loss: 0.1534 - accuracy: 0.9417 - val_loss: 0.2530 - val_accuracy: 0.9172\n",
            "Epoch 16/20\n",
            "235/235 [==============================] - 5s 23ms/step - loss: 0.1476 - accuracy: 0.9429 - val_loss: 0.2469 - val_accuracy: 0.9191\n",
            "Epoch 17/20\n",
            "235/235 [==============================] - 5s 23ms/step - loss: 0.1382 - accuracy: 0.9476 - val_loss: 0.2440 - val_accuracy: 0.9230\n",
            "Epoch 18/20\n",
            "235/235 [==============================] - 5s 23ms/step - loss: 0.1313 - accuracy: 0.9499 - val_loss: 0.2485 - val_accuracy: 0.9208\n",
            "Epoch 19/20\n",
            "235/235 [==============================] - 5s 23ms/step - loss: 0.1265 - accuracy: 0.9524 - val_loss: 0.2497 - val_accuracy: 0.9214\n",
            "Epoch 20/20\n",
            "235/235 [==============================] - 5s 23ms/step - loss: 0.1226 - accuracy: 0.9524 - val_loss: 0.2535 - val_accuracy: 0.9189\n"
          ]
        }
      ]
    },
    {
      "cell_type": "code",
      "metadata": {
        "id": "1CJrQWTChBxi",
        "colab": {
          "base_uri": "https://localhost:8080/",
          "height": 283
        },
        "outputId": "204acd68-0167-4d26-d43b-0983436066e1"
      },
      "source": [
        "plot_loss(history, ylim=(0.7, 1))"
      ],
      "execution_count": 12,
      "outputs": [
        {
          "output_type": "display_data",
          "data": {
            "image/png": "[encoded data removed]",
            "text/plain": [
              "<Figure size 432x288 with 1 Axes>"
            ]
          },
          "metadata": {
            "needs_background": "light"
          }
        }
      ]
    },
    {
      "cell_type": "code",
      "metadata": {
        "id": "DAk77vRLfsNP"
      },
      "source": [
        ""
      ],
      "execution_count": null,
      "outputs": []
    }
  ]
}