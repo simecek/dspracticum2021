{
  "cells": [
    {
      "cell_type": "markdown",
      "metadata": {
        "colab_type": "text",
        "id": "view-in-github"
      },
      "source": [
        "<a href=\"https://colab.research.google.com/github/simecek/dspracticum2021/blob/main/lesson02/A_Short_Intro_To_Python.ipynb\" target=\"_parent\"><img src=\"https://colab.research.google.com/assets/colab-badge.svg\" alt=\"Open In Colab\"/></a>"
      ]
    },
    {
      "cell_type": "markdown",
      "metadata": {
        "id": "kc9k9AUWYHmG"
      },
      "source": [
        "# A Short Introduction To Python\n",
        "\n",
        "This introduction is recommended for coders coming from other language (e.g. `R`). I expect you to already know concept like a lists, conditional statements, loops or functions.   \n",
        "\n",
        "There is a plenty of material online to get oriented in Python. For example, skim Learn Python in ... minutes\n",
        "https://learnxinyminutes.com/docs/python/ and try do do the exercises below. If you stack, ask for help (do not waste time). There are no wrong questions. Please, work in pairs - only the person with less experience is allowed to touch the keyboard.\n",
        "\n",
        "To start with, please, copy this notebook into your GDrive (from menu select File -> Save a copy in drive).\n",
        "\n"
      ]
    },
    {
      "cell_type": "markdown",
      "metadata": {
        "id": "_Ixk7bxDYX3E"
      },
      "source": [
        "## Python Basic\n",
        "\n",
        "1) Save a number 3 into a variable `a` and print it\n",
        "\n",
        "*Expected output:*\n",
        "\n",
        "3"
      ]
    },
    {
      "cell_type": "code",
      "execution_count": null,
      "metadata": {
        "id": "pWHm0s9WYWrJ"
      },
      "outputs": [],
      "source": []
    },
    {
      "cell_type": "markdown",
      "metadata": {
        "id": "nQVqA2XVZXv2"
      },
      "source": [
        "2) Take the radius of a circle in a variable `r` and calculate the area:\n",
        "\n",
        "*Input:*\n",
        "\n",
        "`r = 1.2`\n",
        "\n",
        "*Output:*\n",
        "\n",
        "`Area = 4.523893421169302`"
      ]
    },
    {
      "cell_type": "code",
      "execution_count": 10,
      "metadata": {
        "id": "y8Lrzc0VaBvU"
      },
      "outputs": [],
      "source": [
        "import math\n",
        "r = 1.2\n",
        "\n",
        "# YOUR CODE\n"
      ]
    },
    {
      "cell_type": "markdown",
      "metadata": {
        "id": "XLiCuHAccy9A"
      },
      "source": [
        "3) Simulate throwing a dice (return a random number between 1 and 6)."
      ]
    },
    {
      "cell_type": "code",
      "execution_count": null,
      "metadata": {
        "id": "RFO4bJEfcyMd"
      },
      "outputs": [],
      "source": []
    },
    {
      "cell_type": "markdown",
      "metadata": {
        "id": "HU3aGYnDamT6"
      },
      "source": [
        "## Strings\n",
        "\n",
        "1) Write a Python program to calculate the length of a string.\n",
        "\n",
        "*Input:*\n",
        "\n",
        "`s = 'OMG!`\n",
        "\n",
        "*Output:*\n",
        "\n",
        "4"
      ]
    },
    {
      "cell_type": "code",
      "execution_count": null,
      "metadata": {
        "id": "Zm7bo3-wayTF"
      },
      "outputs": [],
      "source": []
    },
    {
      "cell_type": "markdown",
      "metadata": {
        "id": "0WIp8lzMbca6"
      },
      "source": [
        "3) Write a Python program to get a single string from two given strings, separated by a space and swap the first two characters of each string.\n",
        "\n",
        "*Sample Strings* : 'abc', 'xyz'\n",
        "\n",
        "*Expected Result* : 'xyc abz'"
      ]
    },
    {
      "cell_type": "code",
      "execution_count": null,
      "metadata": {
        "id": "5aNJiF7sbsOl"
      },
      "outputs": [],
      "source": [
        "s1 = 'abs'\n",
        "s2 = 'xyz'\n",
        "\n",
        "# YOUR CODE"
      ]
    },
    {
      "cell_type": "markdown",
      "metadata": {
        "id": "UxfrAww8ay3b"
      },
      "source": [
        "3) Write a Python program to count the number of characters (character frequency) in a string. (hint: try Counter from collections module)\n",
        "\n",
        "*Input* : 'google.com'\n",
        "\n",
        "*Output* : {'g': 2, 'o': 3, 'l': 1, 'e': 1, '.': 1, 'c': 1, 'm': 1}"
      ]
    },
    {
      "cell_type": "code",
      "execution_count": null,
      "metadata": {
        "id": "bZ6Q3k4ZbFLX"
      },
      "outputs": [],
      "source": []
    },
    {
      "cell_type": "markdown",
      "metadata": {
        "id": "bZChofU8dKhH"
      },
      "source": [
        "# Lists\n",
        "\n",
        "1) Write a Python program to get the smallest, the largest number from a list and a sum of a list.\n",
        "\n",
        "*Input:* [3, 8, 1, 9]\n",
        "\n",
        "*Output:* 1, 9, 21"
      ]
    },
    {
      "cell_type": "code",
      "execution_count": null,
      "metadata": {
        "id": "NLnSvJMIbHOr"
      },
      "outputs": [],
      "source": []
    },
    {
      "cell_type": "markdown",
      "metadata": {
        "id": "J9ByniFEd24_"
      },
      "source": [
        "2) Write a Python program to print a list from 2nd to 3rd element and the last element.\n",
        "\n",
        "*Sample List:* ['Red', 'Green', 'White', 'Black', 'Pink', 'Yellow']\n",
        "\n",
        "*Expected Output:* ['Green', 'White', 'Yellow']"
      ]
    },
    {
      "cell_type": "code",
      "execution_count": null,
      "metadata": {
        "id": "a1R_YSJadpGQ"
      },
      "outputs": [],
      "source": []
    },
    {
      "cell_type": "markdown",
      "metadata": {
        "id": "rJPzdibWegKe"
      },
      "source": [
        "3) Write a Python program to print a every second element of a list in a reverse order. \n",
        "\n",
        "*Input:* [8, 4, 3, 6, 7]\n",
        "\n",
        "*Output: [7, 3, 8]*"
      ]
    },
    {
      "cell_type": "code",
      "execution_count": 30,
      "metadata": {
        "id": "A8THDxJCe8Qx"
      },
      "outputs": [],
      "source": [
        "a = [8, 4, 3, 6, 7]"
      ]
    },
    {
      "cell_type": "markdown",
      "metadata": {
        "id": "n74TRtQTfYDL"
      },
      "source": [
        "4) Write a Python program to print the numbers of a specified list after removing even numbers from it. (hint: search for list comprehensions)\n",
        "\n",
        "*Input*: [8, 4, 3, 5, 7]\n",
        "\n",
        "*Output*: [3, 5, 7]"
      ]
    },
    {
      "cell_type": "code",
      "execution_count": 31,
      "metadata": {
        "id": "gexLP79bfAFj"
      },
      "outputs": [],
      "source": [
        "a = [8, 4, 3, 5, 7]"
      ]
    },
    {
      "cell_type": "markdown",
      "metadata": {
        "id": "k9BZv-fDflp8"
      },
      "source": [
        "## Dictionary\n",
        "\n",
        "1) Write a Python script to add a key to a dictionary.\n",
        "\n",
        "*Sample Dictionary:* `{0: 10, 1: 20}`\n",
        "\n",
        "*Expected Result:* `{0: 10, 1: 20, 2: 30}`"
      ]
    },
    {
      "cell_type": "code",
      "execution_count": null,
      "metadata": {
        "id": "Vgu56a5dfpfe"
      },
      "outputs": [],
      "source": []
    },
    {
      "cell_type": "markdown",
      "metadata": {
        "id": "iPKJ57gGgNaX"
      },
      "source": [
        "2) Write a Python script to check whether a given key `\"default\"` already exists in a dictionary.\n",
        "\n",
        "*Sample Dictionary*: `d = {'default': 0, 'extra': 1}`\n",
        "\n",
        "*Expected Output*: True"
      ]
    },
    {
      "cell_type": "code",
      "execution_count": null,
      "metadata": {
        "id": "t8jiAlwpgvCq"
      },
      "outputs": [],
      "source": []
    },
    {
      "cell_type": "markdown",
      "metadata": {
        "id": "ephq59_Vgyd8"
      },
      "source": [
        "3) Write a Python script to generate and print a dictionary that contains a number (between 1 and n) in the form `(x, x*x)`. (*hint*: to generate through numbers 1..N, use `range(1, N+1)`)\n",
        "\n",
        "*Sample Dictionary*: (n = 5)\n",
        "\n",
        "*Expected Output*: {1: 1, 2: 4, 3: 9, 4: 16, 5: 25}"
      ]
    },
    {
      "cell_type": "code",
      "execution_count": null,
      "metadata": {
        "id": "MvF8xvmEg-ug"
      },
      "outputs": [],
      "source": [
        "n = 5\n",
        "\n"
      ]
    },
    {
      "cell_type": "markdown",
      "metadata": {
        "id": "rFoZujkqhPHF"
      },
      "source": [
        "## Conditional statements and loops\n",
        "\n",
        "1) Write a Python program to construct the following pattern, using a loop.\n",
        "\n",
        "``` \n",
        "* * * * * \n",
        "* * * * \n",
        "* * * \n",
        "* * \n",
        "*\n",
        "```"
      ]
    },
    {
      "cell_type": "code",
      "execution_count": null,
      "metadata": {
        "id": "5nx2HcRbh1pS"
      },
      "outputs": [],
      "source": []
    },
    {
      "cell_type": "markdown",
      "metadata": {
        "id": "8jrjwvnEhqP4"
      },
      "source": [
        "2) Write a Python program to count the number of even and odd numbers from a series of numbers.\n",
        "\n",
        "*Sample numbers*: numbers = (1, 2, 3, 4, 5, 6, 7, 8, 9) \n",
        "\n",
        "*Expected Output*:\n",
        "\n",
        "Number of even numbers : 4\n",
        "\n",
        "Number of odd numbers : 5"
      ]
    },
    {
      "cell_type": "code",
      "execution_count": null,
      "metadata": {
        "id": "BvJKiuBOhDVk"
      },
      "outputs": [],
      "source": []
    },
    {
      "cell_type": "markdown",
      "metadata": {
        "id": "tz5__SdoiCrC"
      },
      "source": [
        "3) Write a Python program which iterates the integers from 1 to 50. For multiples of three print \"Fizz\" instead of the number and for the multiples of five print \"Buzz\". For numbers which are multiples of both three and five print \"FizzBuzz\".\n",
        "\n",
        "*Sample Output*:\n",
        "```\n",
        "fizzbuzz\n",
        "1\n",
        "2\n",
        "fizz\n",
        "4\n",
        "buzz\n",
        "```"
      ]
    },
    {
      "cell_type": "markdown",
      "metadata": {
        "id": "IXh-mUI4iQZD"
      },
      "source": [
        "4) Write a Python program which takes two digits m (row) and n (column) as input and generates a \"two-dimensional\" list. The element value in the i-th row and j-th column of the array should be i*j. \n",
        "\n",
        "*Test Data*: Rows = 3, Columns = 4\n",
        "\n",
        "*Expected Result*: [[0, 0, 0, 0], [0, 1, 2, 3], [0, 2, 4, 6]]"
      ]
    },
    {
      "cell_type": "code",
      "execution_count": null,
      "metadata": {
        "id": "xEUERUjThOMC"
      },
      "outputs": [],
      "source": []
    },
    {
      "cell_type": "markdown",
      "metadata": {
        "id": "dwbYMGH_ig7B"
      },
      "source": [
        "## Functions\n",
        "\n",
        "1) Write a Python program to reverse a string.\n",
        "\n",
        "*Sample String*: \"1234abcd\"\n",
        "\n",
        "*Expected Output*: \"dcba4321\""
      ]
    },
    {
      "cell_type": "code",
      "execution_count": null,
      "metadata": {
        "id": "vexEDMHRit6K"
      },
      "outputs": [],
      "source": [
        "s = \"1234abcd\"\n",
        "\n",
        "def reverse_string(x):\n",
        "  # YOUR CODE\n",
        "\n",
        "reverse_string(s)"
      ]
    },
    {
      "cell_type": "markdown",
      "metadata": {
        "id": "MoeQIISmi8Rd"
      },
      "source": [
        "2) Write a Python function to calculate the factorial of a number (a non-negative integer). The function accepts the number as an argument.\n",
        "\n",
        "*Input:* 4\n",
        "\n",
        "*Expected output:* 24"
      ]
    },
    {
      "cell_type": "code",
      "execution_count": null,
      "metadata": {
        "id": "gE3-amPsjJgm"
      },
      "outputs": [],
      "source": [
        "i = 4\n",
        "\n",
        "def factorial(x):\n",
        "  # YOUR CODE\n",
        "\n",
        "factorial(i)"
      ]
    },
    {
      "cell_type": "markdown",
      "metadata": {
        "id": "Nre88nyojQow"
      },
      "source": []
    },
    {
      "cell_type": "markdown",
      "metadata": {
        "id": "ruAV-gn0jQuJ"
      },
      "source": [
        "3) Write a Python function that takes a list and returns a new list with unique elements of the first list.\n",
        "\n",
        "*Sample List*: [1,2,3,3,3,3,4,5]\n",
        "\n",
        "*Unique List*: [1, 2, 3, 4, 5]"
      ]
    },
    {
      "cell_type": "code",
      "execution_count": null,
      "metadata": {
        "id": "14HIL0tkjP6u"
      },
      "outputs": [],
      "source": [
        "a = [1,2,3,3,3,3,4,5]\n",
        "\n",
        "def unique_list(x):\n",
        "  # YOUR CODE\n",
        "\n",
        "unique_list(a)"
      ]
    },
    {
      "cell_type": "markdown",
      "metadata": {
        "id": "GN_ZkiW-kuMh"
      },
      "source": [
        "## Numpy Arrays\n",
        "\n",
        "1)  Create a 1D array of numbers from 0 to 9\n",
        "\n",
        "*Output:* `array([0, 1, 2, 3, 4, 5, 6, 7, 8, 9])`\n",
        "\n"
      ]
    },
    {
      "cell_type": "code",
      "execution_count": null,
      "metadata": {
        "id": "Gor71BhflUqy"
      },
      "outputs": [],
      "source": [
        "import numpy as np"
      ]
    },
    {
      "cell_type": "markdown",
      "metadata": {
        "id": "wfUsBcIzlY6f"
      },
      "source": [
        "2) Find how to generate an array N x M of random numbers, zeroes, ones and how to get a shape (a dimension) of an array.\n",
        "\n",
        "Generate an array 10x20 of random numbers between 0 and 1 anbd calculate a sum of each row."
      ]
    },
    {
      "cell_type": "code",
      "execution_count": null,
      "metadata": {
        "id": "Jm1vCOydmLzu"
      },
      "outputs": [],
      "source": []
    },
    {
      "cell_type": "markdown",
      "metadata": {
        "id": "TuVz_i61mR8i"
      },
      "source": [
        "3) Replace all odd numbers in array with -1\n",
        "\n",
        "*Input*: arr = np.array([0, 1, 2, 3, 4, 5, 6, 7, 8, 9])\n",
        "\n",
        "*Output*: array([ 0, -1,  2, -1,  4, -1,  6, -1,  8, -1])"
      ]
    },
    {
      "cell_type": "code",
      "execution_count": null,
      "metadata": {
        "id": "Gszta9g6mVxd"
      },
      "outputs": [],
      "source": [
        "arr = np.array([0, 1, 2, 3, 4, 5, 6, 7, 8, 9])"
      ]
    },
    {
      "cell_type": "markdown",
      "metadata": {
        "id": "boBRfq6EmjYB"
      },
      "source": [
        "4) Convert a 1D array to a 2D array with 2 rows\n",
        "\n",
        "*Input*: array([ 0, 1, 2, 3, 4, 5, 6, 7, 8, 9])\n",
        "\n",
        "*Output*: array([[0, 1, 2, 3, 4],\n",
        "                [5, 6, 7, 8, 9]])"
      ]
    },
    {
      "cell_type": "code",
      "execution_count": null,
      "metadata": {
        "id": "TjznVtvDmknY"
      },
      "outputs": [],
      "source": []
    },
    {
      "cell_type": "markdown",
      "metadata": {
        "id": "0dLDMB60m9zW"
      },
      "source": [
        "5) Get the positions where elements of a and b match\n",
        "\n",
        "*Input*:\n",
        "```\n",
        "a = np.array([1,2,3,2,3,4,3,4,5,6])\n",
        "b = np.array([7,2,10,2,7,4,9,4,9,8])\n",
        "```\n",
        "\n",
        "*Output*:\n",
        "\n",
        "`array([1, 3, 5, 7])`"
      ]
    },
    {
      "cell_type": "code",
      "execution_count": null,
      "metadata": {
        "id": "USVbwwH_nYvT"
      },
      "outputs": [],
      "source": []
    },
    {
      "cell_type": "markdown",
      "metadata": {
        "id": "Aafmqf69nZBi"
      },
      "source": [
        "6)  Swap columns 1 and 2 in the array\n",
        "\n",
        "*Input:*\n",
        "\n",
        "```\n",
        "array([[0, 1, 2],\n",
        "       [3, 4, 5],\n",
        "       [6, 7, 8]])\n",
        "```\n",
        "\n",
        "*Output:*\n",
        "\n",
        "```\n",
        "array([[1, 0, 2],\n",
        "       [4, 3, 5],\n",
        "       [7, 6, 8]])\n",
        "```"
      ]
    },
    {
      "cell_type": "code",
      "execution_count": null,
      "metadata": {
        "id": "qcwXf0H3ng7P"
      },
      "outputs": [],
      "source": [
        "arr = np.arange(9).reshape(3,3)"
      ]
    },
    {
      "cell_type": "markdown",
      "metadata": {
        "id": "2dEc0kDQyJiZ"
      },
      "source": [
        "## Pandas\n",
        "\n",
        "1) Read CSV file from http://raw.githubusercontent.com/resbaz/r-novice-gapminder-files/master/data/gapminder-FiveYearData.csv into DataFrame `df`. Use 'country' as an index column. Print first 5 lines of `df`."
      ]
    },
    {
      "cell_type": "code",
      "execution_count": 26,
      "metadata": {
        "id": "5VSW7rjPyTM-"
      },
      "outputs": [],
      "source": [
        "import pandas as pd\n"
      ]
    },
    {
      "cell_type": "markdown",
      "metadata": {
        "id": "s-Vlp6WQybwm"
      },
      "source": [
        "2) Print all information in the dataframe about \"Czech Republic\". Print only life expectancy progression in the Czech Republic (columns `year` and `lifeExp`)."
      ]
    },
    {
      "cell_type": "code",
      "execution_count": null,
      "metadata": {
        "id": "5HJY25vx1WkF"
      },
      "outputs": [],
      "source": []
    },
    {
      "cell_type": "markdown",
      "metadata": {
        "id": "RZXMvdgz1Wy0"
      },
      "source": [
        "3) Print the value in the third row, second column.\n",
        "\n",
        "*Expected output*: 31.997"
      ]
    },
    {
      "cell_type": "code",
      "execution_count": 25,
      "metadata": {
        "id": "a6H8AnMd0IhU"
      },
      "outputs": [],
      "source": []
    },
    {
      "cell_type": "markdown",
      "metadata": {
        "id": "VijNF6ia2E3W"
      },
      "source": [
        "4) Print all information from the year 2007."
      ]
    },
    {
      "cell_type": "code",
      "execution_count": null,
      "metadata": {
        "id": "h_2DJGP426Op"
      },
      "outputs": [],
      "source": []
    },
    {
      "cell_type": "markdown",
      "metadata": {
        "id": "X89vHlME20rr"
      },
      "source": [
        "5) Find the country with the largest GDP per capita in 2007."
      ]
    },
    {
      "cell_type": "code",
      "execution_count": 27,
      "metadata": {
        "id": "p_sJ9VJU1esy"
      },
      "outputs": [],
      "source": []
    },
    {
      "cell_type": "markdown",
      "metadata": {
        "id": "7zAZeqvo2bg3"
      },
      "source": [
        "6) In the year 2007, calculate the average life expectancy per continent (ignore a population size)."
      ]
    },
    {
      "cell_type": "code",
      "execution_count": 28,
      "metadata": {
        "id": "CdtRrqsF2Alg"
      },
      "outputs": [],
      "source": [
        " "
      ]
    },
    {
      "cell_type": "markdown",
      "metadata": {
        "id": "WGGdGlGH9-M_"
      },
      "source": [
        "## Acknowledgement\n",
        "\n",
        "In preparation of this notebook, I have used and adapted materials from [W3 Python Tutorial Exercises](https://www.w3resource.com/python-exercises/), [101 NumPy Exercises for Data Analysis](https://www.machinelearningplus.com/python/101-numpy-exercises-python/) and [Software Carpentry workshop Python for Novices](https://ucsbcarpentry.github.io/2019-10-10-Python-UCSB/08-data-frames/)."
      ]
    }
  ],
  "metadata": {
    "colab": {
      "authorship_tag": "ABX9TyPDM7WCK7BjN1YC6DeXVgbl",
      "collapsed_sections": [],
      "include_colab_link": true,
      "name": "A_Short_Intro_To_Python.ipynb",
      "provenance": []
    },
    "interpreter": {
      "hash": "d5d0f56697a7f1eacc7897c95719d70e9873bac1d291d364b9204c16c1724ce8"
    },
    "kernelspec": {
      "display_name": "Python 3.9.0 64-bit ('3.9.0': pyenv)",
      "name": "python3"
    },
    "language_info": {
      "name": "python",
      "version": ""
    }
  },
  "nbformat": 4,
  "nbformat_minor": 0
}